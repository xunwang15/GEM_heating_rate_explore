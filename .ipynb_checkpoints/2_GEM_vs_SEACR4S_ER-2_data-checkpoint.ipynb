{
 "cells": [
  {
   "cell_type": "code",
   "execution_count": 1,
   "metadata": {},
   "outputs": [
    {
     "name": "stdout",
     "output_type": "stream",
     "text": [
      "Populating the interactive namespace from numpy and matplotlib\n"
     ]
    }
   ],
   "source": [
    "%pylab inline\n",
    "#%matplotlib notebook\n",
    "import xarray as xr\n",
    "from glob import glob\n",
    "from scipy import stats\n",
    "import pandas as pd\n",
    "#from xradd import *\n",
    "from rrtmg_lw_functions import *\n",
    "import matplotlib.pyplot as plt\n",
    "import numpy as np\n",
    "import matplotlib.colors as colors\n",
    "from string import ascii_lowercase\n",
    "from scipy.interpolate import griddata\n",
    "from netCDF4 import Dataset\n",
    "from scipy import interpolate\n",
    "import time\n",
    "from datetime import datetime\n",
    "import calendar\n",
    "from datetime import timedelta \n",
    "from scipy import interpolate"
   ]
  },
  {
   "cell_type": "markdown",
   "metadata": {},
   "source": [
    "## Description\n",
    "\n",
    "This notebook shows the comparison of delta T vs delta H2O distribution in GEM and in ER-2 in situ measurements. I also stored the dataset of delta T vs delta H2O distribution from GEM for future use."
   ]
  },
  {
   "cell_type": "code",
   "execution_count": 2,
   "metadata": {},
   "outputs": [],
   "source": [
    "def sat_mix_mk(p,t):\n",
    "    idx1 = np.where(t>273.5)\n",
    "    if t>273.5:\n",
    "\n",
    "        esi = np.exp(54.842763-6763.22/t-4.210*np.log(t) +\\\n",
    "        0.000367*t+np.tanh(0.0415*(t-218.8))*(53.878-1331.22/t - \\\n",
    "        9.44523*np.log(t)+0.014025*t))/ 100. # hPa\n",
    "    if t<=273.5:\n",
    "\n",
    "        esi = np.exp(9.550426-5723.265/t+3.53068*np.log(t)-0.00728332*t)/100.0 # hPa\n",
    "    h2o=esi/(p-esi) # the mixing ratio\n",
    "    if esi*100>p:\n",
    "        h2o=esi/p\n",
    "    if h2o>=1:\n",
    "        h2o = np.nan\n",
    "    return h2o*1e6"
   ]
  },
  {
   "cell_type": "markdown",
   "metadata": {},
   "source": [
    "### 1. Get ER-2 data"
   ]
  },
  {
   "cell_type": "markdown",
   "metadata": {},
   "source": [
    "##### First read ER-2 water vapor\n",
    "\n",
    "Includes: Start_UTC, H2O(v)_ppmv"
   ]
  },
  {
   "cell_type": "code",
   "execution_count": 3,
   "metadata": {},
   "outputs": [],
   "source": [
    "indir1 = '/storage/xwang/transfer_data/data/er-2/'\n",
    "f1 = open(indir1+'SEAC4RS-JLH_ER2_20130827_R1.ict','r') \n",
    "top_line=34\n",
    "for i in range(top_line):\n",
    "    line=f1.readline()\n",
    "data_all = f1.readlines()\n",
    "ndata = np.shape(data_all)[0]\n",
    "\n",
    "dt = data_all\n",
    "dt = ''.join(dt).replace('\\n',' ')\n",
    "dt = ''.join(dt).replace(',',' ')\n",
    "dt = \" \".join(dt.split())\n",
    "dt = dt.split(' ')\n",
    "dt = np.array([float(i) for i in dt])\n",
    "dt = np.reshape(dt,(ndata,2)).T\n",
    "dt[dt==-9999]=np.nan\n",
    "er_wv = dt*1."
   ]
  },
  {
   "cell_type": "markdown",
   "metadata": {},
   "source": [
    "##### Next read ER-2 pressure and temperature\n",
    "\n",
    "Includes: TIME_UTC, P, T"
   ]
  },
  {
   "cell_type": "code",
   "execution_count": 4,
   "metadata": {},
   "outputs": [],
   "source": [
    "indir1 = '/storage/xwang/transfer_data/data/er-2/'\n",
    "f1 = open(indir1+'SEAC4RS-MMS-1HZ_ER2_20130827_R0.ict','r') \n",
    "top_line=50\n",
    "for i in range(top_line):\n",
    "    line=f1.readline()\n",
    "data_all = f1.readlines()\n",
    "ndata = np.shape(data_all)[0]\n",
    "\n",
    "dt = data_all\n",
    "dt = ''.join(dt).replace('\\n',' ')\n",
    "dt = ''.join(dt).replace(',',' ')\n",
    "dt = \" \".join(dt.split())\n",
    "dt = dt.split(' ')\n",
    "dt = np.array([float(i) for i in dt])\n",
    "dt = np.reshape(dt,(ndata,16)).T\n",
    "dt[dt<=-9999]=np.nan\n",
    "er_pt = dt[:3,:]/100.\n",
    "er_pt[0,:]*=100"
   ]
  },
  {
   "cell_type": "markdown",
   "metadata": {},
   "source": [
    "##### Read ER-2 x,w,z\n",
    "\n",
    "Includes: Start_UTC,Latitude,Longitude,GPS_Altitude"
   ]
  },
  {
   "cell_type": "code",
   "execution_count": 5,
   "metadata": {},
   "outputs": [],
   "source": [
    "indir1 = '/storage/xwang/transfer_data/data/er-2/'\n",
    "f1 = open(indir1+'seac4rs-nasdat_er2_20130827_r0.ict','r') \n",
    "top_line=54\n",
    "for i in range(top_line):\n",
    "    line=f1.readline()\n",
    "data_all = f1.readlines()\n",
    "ndata = np.shape(data_all)[0]\n",
    "\n",
    "dt = data_all\n",
    "dt = ''.join(dt).replace('\\n',' ')\n",
    "dt = ''.join(dt).replace(',',' ')\n",
    "dt = \" \".join(dt.split())\n",
    "dt = dt.split(' ')\n",
    "dt = np.array([float(i) for i in dt])\n",
    "dt = np.reshape(dt,(ndata,22)).T\n",
    "dt[dt<=-9999]=np.nan\n",
    "er_xyz = dt[:4,:]\n"
   ]
  },
  {
   "cell_type": "markdown",
   "metadata": {},
   "source": [
    "##### Make sure the three datasets are on the same time steps"
   ]
  },
  {
   "cell_type": "code",
   "execution_count": 6,
   "metadata": {},
   "outputs": [],
   "source": [
    "er_idx1=np.array([],dtype='int')\n",
    "er_idx2=np.array([],dtype='int')\n",
    "er_idx3=np.array([],dtype='int')\n",
    "for i in range(25888):\n",
    "    if er_xyz[0,i]>=er_wv[0,:].min() and er_xyz[0,i]<=er_wv[0,:].max():\n",
    "        er_idx1 = np.append(er_idx1,np.where(er_wv[0,:]==round(er_xyz[0,i],0))[0][0])\n",
    "        er_idx2 = np.append(er_idx2,np.where(abs(er_pt[0,:]-round(er_xyz[0,i],0))<=1)[0][0])\n",
    "        er_idx3 = np.append(er_idx3,i)\n",
    "er_wv = er_wv[:,er_idx1]*1.\n",
    "er_pt = er_pt[:,er_idx2]*1.\n",
    "er_xyz = er_xyz[:,er_idx3]*1."
   ]
  },
  {
   "cell_type": "markdown",
   "metadata": {},
   "source": [
    "##### make a list of timeseries"
   ]
  },
  {
   "cell_type": "code",
   "execution_count": 7,
   "metadata": {},
   "outputs": [],
   "source": [
    "starttime=datetime(year=2013,month=8,day=27)\n",
    "ntime = np.size(er_xyz[0,:])\n",
    "timeseries = ['']*ntime\n",
    "for i in range(ntime):\n",
    "    tmp = timedelta(seconds=er_xyz[0,i]) +starttime\n",
    "    timeseries[i] = str(tmp.year)+'-'+str(tmp.month).zfill(2)+'-'+str(tmp.day).zfill(2)+' '+\\\n",
    "    str(tmp.hour).zfill(2)+':'+str(tmp.minute).zfill(2)+':'+str(tmp.second).zfill(2)"
   ]
  },
  {
   "cell_type": "code",
   "execution_count": 8,
   "metadata": {},
   "outputs": [
    {
     "data": {
      "text/plain": [
       "('2013-08-27 17:08:47', '2013-08-27 23:49:26')"
      ]
     },
     "execution_count": 8,
     "metadata": {},
     "output_type": "execute_result"
    }
   ],
   "source": [
    "timeseries[0],timeseries[-1]"
   ]
  },
  {
   "cell_type": "markdown",
   "metadata": {},
   "source": [
    "##### Show the flight track. Red is marked as pressure levels 95~105 hPa"
   ]
  },
  {
   "cell_type": "markdown",
   "metadata": {},
   "source": [
    "For more ER-2 data plots and analyses, refer to Zhipeng's paper (https://doi.org/10.5194/acp-20-2143-2020) and Smith et al. 2017 (https://doi.org/10.1002/2017JD026831)."
   ]
  },
  {
   "cell_type": "code",
   "execution_count": 9,
   "metadata": {},
   "outputs": [
    {
     "data": {
      "text/plain": [
       "<matplotlib.collections.PathCollection at 0x7f376f131640>"
      ]
     },
     "execution_count": 9,
     "metadata": {},
     "output_type": "execute_result"
    },
    {
     "data": {
      "image/png": "[encoded data removed]",
      "text/plain": [
       "<Figure size 432x288 with 1 Axes>"
      ]
     },
     "metadata": {
      "needs_background": "light"
     },
     "output_type": "display_data"
    }
   ],
   "source": [
    "plt.scatter(er_xyz[2,:],er_xyz[1,:],s=1)\n",
    "idx_lat = np.where(er_xyz[1,:]>=40)[0]                                          # select latitude > 40N\n",
    "idx_p = np.where(np.logical_and(er_pt[1,idx_lat]<=105,er_pt[1,idx_lat]>=95))[0] # select pressure levels 95~105 hPa\n",
    "plt.scatter(er_xyz[2,idx_lat[idx_p]],er_xyz[1,idx_lat[idx_p]],s=1,color='r')"
   ]
  },
  {
   "cell_type": "markdown",
   "metadata": {},
   "source": [
    "### 2. Get MLS data for background mean value"
   ]
  },
  {
   "cell_type": "code",
   "execution_count": 10,
   "metadata": {},
   "outputs": [],
   "source": [
    "indirm = '/storage/xwang/transfer_data/data/MLS/'\n",
    "fm = xr.open_dataset(indirm+'MLS-Aura_L2GP_v04_H2O_2010-2015JJA.nc')\n",
    "fm2 = xr.open_dataset(indirm+'MLS-Aura_L2GP_v04_Temperature_2010-2015JJA.nc')"
   ]
  },
  {
   "cell_type": "code",
   "execution_count": 11,
   "metadata": {},
   "outputs": [],
   "source": [
    "latm = fm.lat.data\n",
    "lonm = fm.lon.data\n",
    "h2om = fm.H2O.data*1e6 ## convert to ppmv\n",
    "prm = fm.pressure.data\n",
    "time1 = fm.time.data"
   ]
  },
  {
   "cell_type": "code",
   "execution_count": 12,
   "metadata": {},
   "outputs": [],
   "source": [
    "latm2 = fm2.lat.data\n",
    "lonm2 = fm2.lon.data\n",
    "ttm = fm2.Temperature.data\n",
    "prm2 = fm2.pressure.data\n",
    "time2=fm2.time.data"
   ]
  },
  {
   "cell_type": "markdown",
   "metadata": {},
   "source": [
    "##### Make sure the T and H2O are on the same time steps"
   ]
  },
  {
   "cell_type": "code",
   "execution_count": 13,
   "metadata": {},
   "outputs": [],
   "source": [
    "ntimem = min(len(time1),len(time2))\n",
    "idx1 = np.array([],dtype='int')\n",
    "for i in range(ntimem):\n",
    "    if time2[i] in time1:\n",
    "        iii = np.where(time1==time2[i])[0][0]\n",
    "        idx1 = np.append(idx1,iii)\n",
    "        \n",
    "latm=latm[idx1]\n",
    "lonm=lonm[idx1]\n",
    "h2om=h2om[idx1]\n",
    "time1=time1[idx1]"
   ]
  },
  {
   "cell_type": "code",
   "execution_count": 14,
   "metadata": {},
   "outputs": [],
   "source": [
    "latm[latm==0]=np.nan # Convert zero values to NAN, so that when computing weighted average, there won't be weights=0\n",
    "latm2[latm2==0]=np.nan"
   ]
  },
  {
   "cell_type": "markdown",
   "metadata": {},
   "source": [
    "##### Select data: 2013/08, latitude between 38-45 N"
   ]
  },
  {
   "cell_type": "code",
   "execution_count": 15,
   "metadata": {},
   "outputs": [],
   "source": [
    "iaug = np.where(np.logical_and(time1>=2013.08,time1<=2013.09))[0]\n",
    "iloc1 = np.where(np.logical_and(latm[iaug,:]>=38,latm[iaug,:]<=45))\n",
    "iloc2 = np.where(np.logical_and(latm2[iaug,:]>=38,latm2[iaug,:]<=45))"
   ]
  },
  {
   "cell_type": "markdown",
   "metadata": {},
   "source": [
    "##### use weighted average for the background mean"
   ]
  },
  {
   "cell_type": "code",
   "execution_count": 16,
   "metadata": {},
   "outputs": [
    {
     "name": "stdout",
     "output_type": "stream",
     "text": [
      "mean H2O: 4.9699087 ppmv\n",
      "mean T: 204.48657 K\n"
     ]
    }
   ],
   "source": [
    "wgt1=np.cos(np.deg2rad(latm))[:,:,np.newaxis]\n",
    "h2omm = (np.nansum((h2om*wgt1)[iaug,:][iloc1[0],iloc1[1],12])/np.nansum(wgt1[iaug,:][iloc1[0],iloc1[1],:]))\n",
    "wgt2=np.cos(np.deg2rad(latm2))[:,:,np.newaxis]\n",
    "ttmm = (np.nansum((ttm*wgt1)[iaug,:][iloc2[0],iloc2[1],12])/np.nansum(wgt2[iaug,:][iloc2[0],iloc2[1],:]))\n",
    "print('mean H2O:',h2omm,'ppmv')\n",
    "print('mean T:',ttmm,'K')"
   ]
  },
  {
   "cell_type": "markdown",
   "metadata": {},
   "source": [
    "#### I suggest using MLS as the background mean value\n",
    "\n",
    "Other options I ried:\n",
    "\n",
    "Refer to all ER-2 flights in August in 2_2_ER-2_data_all_august.ipynb. The ER-2 flight tracks are mostly through active convection, so their data is not the ideal for \"background\" mean value.\n",
    "\n",
    "For ERA5 August data at 100 hPa around this latitude range, the mean water vapor is 5.63 ppmv, and T is 210.7 K, which is higher than the MLS value. Double check ERA5 data if necessary."
   ]
  },
  {
   "cell_type": "markdown",
   "metadata": {},
   "source": [
    "### 3. Get GEM data. Show the GEM T vs water vapor distribution"
   ]
  },
  {
   "cell_type": "markdown",
   "metadata": {},
   "source": [
    "#### First get the data at 0001 min, the beginning of the model run (before convection), to compute the background mean for GEM"
   ]
  },
  {
   "cell_type": "code",
   "execution_count": 17,
   "metadata": {},
   "outputs": [
    {
     "name": "stdout",
     "output_type": "stream",
     "text": [
      "[16.25 16.5  16.75 17.   17.25 17.5 ] km\n"
     ]
    }
   ],
   "source": [
    "indir = '/storage/xwang/transfer_data/data/GEM_1p0_griddata/'\n",
    "ffw0=xr.open_dataset(indir+'2013082512_0001m_1p0_h2o_mix_gz.nc')\n",
    "ff0=xr.open_dataset(indir+'2013082512_0001m_1p0_tt_theta_thetav_gz.nc')\n",
    "lat1 = 40;lat2=52\n",
    "wv0=ffw0.h2o_mix.sel(lat=slice(lat1,lat2)).data\n",
    "tt0=ff0.tt.sel(lat=slice(lat1,lat2)).data\n",
    "alt = ff0.level.data\n",
    "\n",
    "#lat1 = 45;lat2=52\n",
    "lat = ff0.lat.sel(lat=slice(lat1,lat2)).data\n",
    "lon=ff0.lon.data\n",
    "nlat = np.size(lat)\n",
    "nlon=np.size(lon)\n",
    "\n",
    "iilev1 = 32 \n",
    "iilev2 =37\n",
    "print(alt[iilev1:iilev2+1],'km')\n",
    "wvm0 = np.nanmean(wv0[iilev1:iilev2,:],axis=-1)\n",
    "wvstd0 = np.nanstd(wv0[iilev1:iilev2,:],axis=-1)\n",
    "ttm0 = np.nanmean(tt0[iilev1:iilev2,:],axis=-1)"
   ]
  },
  {
   "cell_type": "markdown",
   "metadata": {},
   "source": [
    "##### Read data at 600 min"
   ]
  },
  {
   "cell_type": "code",
   "execution_count": 18,
   "metadata": {},
   "outputs": [],
   "source": [
    "ttstr = '600'\n",
    "ff=xr.open_dataset(indir+'2013082512_0'+ttstr+'m_1p0_tt_theta_thetav_gz.nc')\n",
    "ffw=xr.open_dataset(indir+'2013082512_0'+ttstr+'m_1p0_h2o_mix_gz.nc')\n",
    "ffp=xr.open_dataset(indir+'2013082512_0'+ttstr+'m_1p0_P_rhou_gz.nc')\n",
    "\n",
    "\n",
    "nnlev=iilev2-iilev1\n",
    "wv = ffw.h2o_mix.sel(lat=slice(lat1,lat2)).isel(level=slice(iilev1,iilev2)).data\n",
    "tt=ff.tt.sel(lat=slice(lat1,lat2)).isel(level=slice(iilev1,iilev2)).data\n",
    "\n",
    "\n",
    "wv_anom = wv-wvm0[:,:,np.newaxis]\n",
    "wv_anom2 = wv-wvm0[:,:,np.newaxis]-wvstd0[:,:,np.newaxis]\n",
    "wv_anom3 = wv-wvm0[:,:,np.newaxis]-3*wvstd0[:,:,np.newaxis]\n",
    "tt_anom = tt-ttm0[:,:,np.newaxis]\n"
   ]
  },
  {
   "cell_type": "markdown",
   "metadata": {},
   "source": [
    "#### Get the wv_anom vs t_anom distribution map"
   ]
  },
  {
   "cell_type": "code",
   "execution_count": 19,
   "metadata": {},
   "outputs": [],
   "source": [
    "wvbin = np.arange(-10,51,1) # water vapor anomaly bin\n",
    "ttbin = np.arange(-20,21,1) # temperature anomaly bin\n",
    "nwvbin = np.size(wvbin)-1\n",
    "nttbin = np.size(ttbin)-1\n",
    "\n",
    "twmoist = np.zeros((nwvbin,nttbin))\n",
    "twelse = np.zeros((nwvbin,nttbin))\n",
    "\n",
    "\n",
    "for ilev in range(nnlev):\n",
    "    idxtw = np.where(wv_anom3[ilev,:]>0) # only choose locations where wv_anom3>0\n",
    "    npoint = np.size(idxtw[0])\n",
    "        \n",
    "    for j in range(npoint):\n",
    "        idx11 = np.where(wvbin>=wv_anom[ilev,idxtw[0][j],idxtw[1][j]])[0]\n",
    "        idx22 = np.where(ttbin>=tt_anom[ilev,idxtw[0][j],idxtw[1][j]])[0]\n",
    "        if len(idx11)>0 and len(idx22)>0: \n",
    "            idxwv = idx11[0]-1\n",
    "            idxtt = idx22[0]-1 \n",
    "            twmoist[idxwv,idxtt]+=1\n",
    "            \n",
    " \n",
    "    \n",
    "    idx2 = np.where(wv_anom[ilev,:]<=0)\n",
    "    npoint2 = np.size(idx2[0])\n",
    "    for j in range(npoint2):\n",
    "        idx33 = np.where(wvbin>=wv_anom[ilev,idx2[0][j],idx2[1][j]])[0]\n",
    "        idx44 = np.where(ttbin>=tt_anom[ilev,idx2[0][j],idx2[1][j]])[0]\n",
    "        if len(idx33)>0 and len(idx44)>0:\n",
    "            idx22 = idx33[0]-1\n",
    "            idx33 = idx44[0]-1 \n",
    "            twelse[idx22,idx33]+=1\n",
    "                "
   ]
  },
  {
   "cell_type": "markdown",
   "metadata": {},
   "source": [
    "##### Plot the distribution. Make sure the computation is OK\n",
    "\n",
    "Add a tt_anom vs wv_anom curve based on Clausius Clapeyron at 100 hPa"
   ]
  },
  {
   "cell_type": "code",
   "execution_count": 20,
   "metadata": {},
   "outputs": [],
   "source": [
    "t_cc = np.arange(-20,5,1)\n",
    "sat_cc = np.zeros_like(t_cc)\n",
    "ttm0 = np.nanmean(tt0[iilev1:iilev2,:])\n",
    "wvm0 = np.nanmean(wv0[iilev1:iilev2,:])\n",
    "for i in range(len(t_cc)):\n",
    "    sat_cc[i] = sat_mix_mk(100,t_cc[i]+ttm0)-wvm0"
   ]
  },
  {
   "cell_type": "code",
   "execution_count": 21,
   "metadata": {},
   "outputs": [],
   "source": [
    "ttx = (ttbin[1:]+ttbin[:-1])/2.\n",
    "wvy = (wvbin[1:]+wvbin[:-1])/2."
   ]
  },
  {
   "cell_type": "code",
   "execution_count": 22,
   "metadata": {},
   "outputs": [
    {
     "data": {
      "text/plain": [
       "(-10.0, 50.0)"
      ]
     },
     "execution_count": 22,
     "metadata": {},
     "output_type": "execute_result"
    },
    {
     "data": {
      "image/png": "[encoded data removed]",
      "text/plain": [
       "<Figure size 432x360 with 1 Axes>"
      ]
     },
     "metadata": {
      "needs_background": "light"
     },
     "output_type": "display_data"
    }
   ],
   "source": [
    "fig,ax = plt.subplots(nrows=1,ncols=1)\n",
    "fig.set_size_inches(6,5, forward=True)\n",
    "\n",
    "ax.plot(t_cc,sat_cc)\n",
    "ax.contour(ttx,wvy,twmoist,colors='r',linewidths=1)\n",
    "ax.contour(ttx,wvy,twelse,colors='grey',linewidths=1)\n",
    "\n",
    "ax.set_xlabel('delta T(K)',fontsize=12)\n",
    "ax.set_ylabel('delta H2O(ppmv)',fontsize=12)\n",
    "\n",
    "ax.set_xlim([-20,10])\n",
    "ax.set_ylim([-10,50])\n"
   ]
  },
  {
   "cell_type": "markdown",
   "metadata": {},
   "source": [
    "### linear fit of 90% GEM data"
   ]
  },
  {
   "cell_type": "markdown",
   "metadata": {},
   "source": [
    "Select the most dense 90% population"
   ]
  },
  {
   "cell_type": "code",
   "execution_count": 23,
   "metadata": {},
   "outputs": [
    {
     "name": "stdout",
     "output_type": "stream",
     "text": [
      "88.9 %\n",
      "448918 grid points\n"
     ]
    }
   ],
   "source": [
    "level2 = np.sort(twmoist.flatten())[::-1][11]\n",
    "idx1 = np.where(twmoist>=level2)\n",
    "print(round(twmoist[idx1[0],idx1[1]].sum()/twmoist.sum()*100,2),'%')\n",
    "n90 = int(twmoist[idx1[0],idx1[1]].sum())\n",
    "print(n90,'grid points')\n",
    "nidx1 = np.shape(idx1)[1]"
   ]
  },
  {
   "cell_type": "code",
   "execution_count": 24,
   "metadata": {},
   "outputs": [],
   "source": [
    "wvr = np.zeros(n90)\n",
    "ttr = np.zeros(n90)\n",
    "kk = 0\n",
    "for ilev in range(nnlev):\n",
    "    idxtw = np.where(wv_anom3[ilev,:]>0)\n",
    "    npoint = np.size(idxtw[0])\n",
    "    for j in range(npoint):\n",
    "        idx11 = np.where(wvbin>=wv_anom[ilev,idxtw[0][j],idxtw[1][j]])[0]\n",
    "        idx22 = np.where(ttbin>=tt_anom[ilev,idxtw[0][j],idxtw[1][j]])[0]\n",
    "        if len(idx11)>0 and len(idx22)>0: \n",
    "            idxwv = idx11[0]-1\n",
    "            idxtt = idx22[0]-1\n",
    "            for iii in range(nidx1):\n",
    "                if idxwv == idx1[0][iii] and idxtt == idx1[1][iii]:\n",
    "                    wvr[kk]=wv_anom[ilev,idxtw[0][j],idxtw[1][j]]*1.\n",
    "                    ttr[kk]=tt_anom[ilev,idxtw[0][j],idxtw[1][j]]*1.\n",
    "                    kk+=1\n",
    "          "
   ]
  },
  {
   "cell_type": "code",
   "execution_count": 25,
   "metadata": {},
   "outputs": [
    {
     "name": "stderr",
     "output_type": "stream",
     "text": [
      "<ipython-input-25-f3941fcb94dd>:7: UserWarning: No contour levels were found within the data range.\n",
      "  ax.contour(ttx,wvy,twmoist,colors='r',linewidths=1,levels=[level1])\n"
     ]
    },
    {
     "data": {
      "text/plain": [
       "[<matplotlib.lines.Line2D at 0x7f376e590df0>]"
      ]
     },
     "execution_count": 25,
     "metadata": {},
     "output_type": "execute_result"
    },
    {
     "data": {
      "image/png": "[encoded data removed]",
      "text/plain": [
       "<Figure size 432x360 with 1 Axes>"
      ]
     },
     "metadata": {
      "needs_background": "light"
     },
     "output_type": "display_data"
    }
   ],
   "source": [
    "fig,ax = plt.subplots(nrows=1,ncols=1)\n",
    "fig.set_size_inches(6,5, forward=True)\n",
    "\n",
    "level1 = np.sort(twmoist.flatten())[::-1][-1]\n",
    "\n",
    "ax.plot(t_cc,sat_cc)\n",
    "ax.contour(ttx,wvy,twmoist,colors='r',linewidths=1,levels=[level1])\n",
    "ax.contour(ttx,wvy,twmoist,colors='r',linewidths=2,levels=[level2])\n",
    "ax.contour(ttx,wvy,twelse,colors='grey',linewidths=1)\n",
    "\n",
    "ax.set_xlabel('delta T(K)',fontsize=12)\n",
    "ax.set_ylabel('delta H2O(ppmv)',fontsize=12)\n",
    "\n",
    "ax.set_xlim([-20,10])\n",
    "ax.set_ylim([-10,50])\n",
    "\n",
    "### compute the linear fit\n",
    "ax.scatter(ttr,wvr,color='tab:blue')\n",
    "slp = np.polyfit(ttr,wvr,1)\n",
    "ax.plot(ttr,ttr*slp[0]+slp[1],color='r')"
   ]
  },
  {
   "cell_type": "markdown",
   "metadata": {},
   "source": [
    "### 4. Compare GEM data with ER-2 data\n",
    "\n",
    "Blue dots are ER-2 data"
   ]
  },
  {
   "cell_type": "code",
   "execution_count": 26,
   "metadata": {},
   "outputs": [
    {
     "name": "stderr",
     "output_type": "stream",
     "text": [
      "<ipython-input-26-1ad99f358c53>:7: UserWarning: No contour levels were found within the data range.\n",
      "  ax.contour(ttx,wvy,twmoist,colors='r',linewidths=1,levels=[level1])\n"
     ]
    },
    {
     "data": {
      "text/plain": [
       "<matplotlib.collections.PathCollection at 0x7f376d50a8e0>"
      ]
     },
     "execution_count": 26,
     "metadata": {},
     "output_type": "execute_result"
    },
    {
     "data": {
      "image/png": "[encoded data removed]",
      "text/plain": [
       "<Figure size 432x360 with 1 Axes>"
      ]
     },
     "metadata": {
      "needs_background": "light"
     },
     "output_type": "display_data"
    }
   ],
   "source": [
    "fig,ax = plt.subplots(nrows=1,ncols=1)\n",
    "fig.set_size_inches(6,5, forward=True)\n",
    "\n",
    "level1 = np.sort(twmoist.flatten())[::-1][-1]\n",
    "\n",
    "ax.plot(t_cc,sat_cc)\n",
    "ax.contour(ttx,wvy,twmoist,colors='r',linewidths=1,levels=[level1])\n",
    "ax.contour(ttx,wvy,twmoist,colors='r',linewidths=2,levels=[level2])\n",
    "\n",
    "ax.contour(ttx,wvy,twelse,colors='grey',linewidths=1)\n",
    "\n",
    "ax.set_xlabel('delta T(K)',fontsize=12)\n",
    "ax.set_ylabel('delta H2O(ppmv)',fontsize=12)\n",
    "\n",
    "ax.set_xlim([-20,10])\n",
    "ax.set_ylim([-10,50])\n",
    "\n",
    "### the linear fit\n",
    "ax.plot(ttr,ttr*slp[0]+slp[1],color='r')\n",
    "\n",
    "### The ER-2 data\n",
    "ax.scatter(er_pt[2,idx_lat[idx_p]]-ttmm,er_wv[1,idx_lat[idx_p]]-h2omm,color='b',s=4)"
   ]
  },
  {
   "cell_type": "code",
   "execution_count": 27,
   "metadata": {},
   "outputs": [
    {
     "data": {
      "text/plain": [
       "<matplotlib.legend.Legend at 0x7f376d467640>"
      ]
     },
     "execution_count": 27,
     "metadata": {},
     "output_type": "execute_result"
    },
    {
     "data": {
      "image/png": "[encoded data removed]",
      "text/plain": [
       "<Figure size 432x360 with 1 Axes>"
      ]
     },
     "metadata": {
      "needs_background": "light"
     },
     "output_type": "display_data"
    }
   ],
   "source": [
    "fig,ax = plt.subplots(nrows=1,ncols=1)\n",
    "fig.set_size_inches(6,5, forward=True)\n",
    "ax.plot(ttr,ttr*slp[0]+slp[1],color='k',linewidth=2,label='GEM 90% fit')\n",
    "ax.contour(ttx,wvy,twmoist,colors='r',linewidths=2,levels=[level2])\n",
    "ax.plot(0,0,color='r',label='GEM 90% contour')\n",
    "\n",
    "ax.scatter(er_pt[2,idx_lat[idx_p]]-ttmm,er_wv[1,idx_lat[idx_p]]-h2omm,color='b',s=3,label='ER-2')\n",
    "\n",
    "ax.set_xlabel('delta T(K)',fontsize=12)\n",
    "ax.set_ylabel('delta H2O(ppmv)',fontsize=12)\n",
    "\n",
    "\n",
    "ax.set_xlim([-7,1])\n",
    "ax.set_ylim([-2,14])\n",
    "ax.legend()\n",
    "#plt.plot(xx,yy)\n",
    "#plt.scatter(xx[idxnum[idxs]],yy2[idxnum[idxs]],color='r',s=3)"
   ]
  },
  {
   "cell_type": "markdown",
   "metadata": {},
   "source": [
    "## Conclusion"
   ]
  },
  {
   "cell_type": "markdown",
   "metadata": {},
   "source": [
    "The ER-2 data is a measurement of an overworld water vapor plume long after the convection is gone (Smith et al. 2017 https://doi.org/10.1002/2017JD026831).\n",
    "\n",
    "The GEM data at 100hPa is also showing an overworld water vapor plume at the similar region.\n",
    "\n",
    "The ER-2 delta_T vs delta_wv fall within the GEM 90% distribution. This means the model has good agreement with the ER-2 observation. The 90% GEM delta_T vs delta_wv can be a good representation of the relationship between the two cariables"
   ]
  },
  {
   "cell_type": "markdown",
   "metadata": {},
   "source": [
    "### 5. Save some data for futrue use\n",
    "\n",
    "##### Only run the codes below if you need to regenerate new dataset. \n",
    "\n",
    "I have already generated and saved the datasets. Run the codes below if you need to enerate a new set of data (e.g. perturb other layers, GEM data at other time steps, etc.).\n"
   ]
  },
  {
   "cell_type": "markdown",
   "metadata": {},
   "source": [
    "#### Save the GEM T-wv distribution for future use\n",
    "\n",
    "I have already stored the dataset.\n",
    "\n",
    "Only run it if you need to generate new data."
   ]
  },
  {
   "cell_type": "code",
   "execution_count": 1,
   "metadata": {},
   "outputs": [],
   "source": [
    "# datas = xr.Dataset({'twmoist':(['delta_wv','delta_t'],twmoist),'twelse':(['delta_wv','delta_t'],twelse),\\\n",
    "#                    't90':(['npoints'],ttr),'wv90':(['npoints'],wvr)},\\\n",
    "# coords={'delta_wv':(['delta_wv'],wvy),'delta_t':(['delta_t'],ttx),'npoints':(['npoints'],np.arange(len(ttr)))})\n",
    "# outdir = '/storage/xwang/transfer_data/data/heating_rate_result_data/'\n",
    "# datas.to_netcdf(path=outdir+'GEM_'+ttstr+'m_1p0_100hPa_deltaT_deltaH2O_distribution.nc',mode='w',format='NETCDF4')           "
   ]
  },
  {
   "cell_type": "markdown",
   "metadata": {},
   "source": [
    "#### Use the GEM T-wv distribution to generate perturb data for rrtmg\n",
    "\n"
   ]
  },
  {
   "cell_type": "code",
   "execution_count": 28,
   "metadata": {},
   "outputs": [],
   "source": [
    "idx_data = np.where(twmoist>0)\n",
    "nset = np.shape(idx_data[1])[0]\n",
    "wv_t_anom_set = np.zeros((2,nset))\n",
    "for i in range(nset):\n",
    "    wv_t_anom_set[0,i] = wvbin[idx_data[0][i]]\n",
    "    wv_t_anom_set[1,i] = ttbin[idx_data[1][i]]"
   ]
  },
  {
   "cell_type": "markdown",
   "metadata": {},
   "source": [
    "#### Add the deltaT and deltaH2O to the idealized background profiles\n",
    "\n",
    "For the example analysis, only add anomalies to 100 hPa"
   ]
  },
  {
   "cell_type": "code",
   "execution_count": 29,
   "metadata": {},
   "outputs": [],
   "source": [
    "indir2 = '/storage/xwang/transfer_data/data/heating_rate_result_data/'\n",
    "ff0 = xr.open_dataset(indir2+'idealized_gem_profiles_p_t_wv_perturb_base_radius_center_egde.nc')\n",
    "p_ave = ff0.P_ave.data[0,0,:]\n",
    "p_lev = ff0.P_lev.data[0,0,:]\n",
    "gas_mr_wv = ff0.gas_mr_wv.data*1e6 # convert to ppmv\n",
    "gas_mr_o3 = ff0.gas_mr_o3.data\n",
    "T_ave = ff0.T_ave.data\n",
    "T_lev = ff0.T_lev.data\n",
    "ff0.close()"
   ]
  },
  {
   "cell_type": "code",
   "execution_count": 30,
   "metadata": {},
   "outputs": [
    {
     "name": "stdout",
     "output_type": "stream",
     "text": [
      "Perturbation layer:  103.65337 hPa\n"
     ]
    }
   ],
   "source": [
    "ilev = 54\n",
    "print('Perturbation layer: ',p_lev[54],'hPa')\n",
    "wvp = np.ones((3,nset+1,77))*gas_mr_wv[:,0,:][:,np.newaxis,:]\n",
    "ttp = np.ones((3,nset+1,77))*T_ave[:,0,:][:,np.newaxis,:]   ## perturb layer average\n",
    "ttlup = np.ones((3,nset+1,78))*T_lev[:,0,:][:,np.newaxis,:] ## perturb upper boundary\n",
    "ttldp = np.ones((3,nset+1,78))*T_lev[:,0,:][:,np.newaxis,:] ## perturb lower boundary\n",
    "\n",
    "for i in range(1,nset+1):\n",
    "    wvp[:,i,ilev] += wv_t_anom_set[0,i-1]\n",
    "    ttp[:,i,ilev] += wv_t_anom_set[1,i-1]\n",
    "    \n",
    "    ttlup[:,i,ilev+1] = ttlup[:,i,ilev+1]+wv_t_anom_set[1,i-1]\n",
    "    ttldp[:,i,ilev] = ttldp[:,i,ilev]+wv_t_anom_set[1,i-1]\n",
    "    \n",
    "wvp = wvp/1e6 # convert to mol/mol\n",
    "P_ave = p_ave*np.ones_like(ttp)\n",
    "P_lev = p_lev*np.ones_like(ttldp)"
   ]
  },
  {
   "cell_type": "code",
   "execution_count": 31,
   "metadata": {},
   "outputs": [],
   "source": [
    "### Output data\n",
    "ntype=3;npert = nset+1"
   ]
  },
  {
   "cell_type": "code",
   "execution_count": 49,
   "metadata": {},
   "outputs": [],
   "source": [
    "# outdir = '/storage/xwang/transfer_data/data/heating_rate_result_data/'\n",
    "# fout = Dataset(outdir+'idealized_gem_profiles_p_t_wv_scatter_perturb_base.nc','w',format = 'NETCDF4')\n",
    "# Level=fout.createDimension('level',77)\n",
    "# Level2=fout.createDimension('level2',78)\n",
    "# npp = fout.createDimension('npert',npert)\n",
    "# nnt = fout.createDimension('ntype',ntype)\n",
    "# outdata = fout.createVariable(\"gas_mr_wv\",'f4',('ntype','npert','level'),zlib=True)\n",
    "# outdata.units='mol/mol'\n",
    "\n",
    "# outdata1 = fout.createVariable(\"T_ave\",'f4',('ntype','npert','level'),zlib=True)\n",
    "# outdata1.units='K'\n",
    "# outdata2 = fout.createVariable(\"P_ave\",'f4',('ntype','npert','level'),zlib=True)\n",
    "# outdata2.units='hPa'\n",
    "# outdata11 = fout.createVariable(\"T_lev_up\",'f4',('ntype','npert','level2'),zlib=True)\n",
    "# outdata11.units='K'\n",
    "# outdata111 = fout.createVariable(\"T_lev_dw\",'f4',('ntype','npert','level2'),zlib=True)\n",
    "# outdata111.units='K'\n",
    "# outdata21 = fout.createVariable(\"P_lev\",'f4',('ntype','npert','level2'),zlib=True)\n",
    "# outdata21.units='hPa'\n",
    "# outdata3 = fout.createVariable(\"gas_mr_o3\",'f4',('ntype','npert','level'),zlib=True)\n",
    "# outdata3.units='mol/mol'\n",
    "\n",
    "# Level=fout.createVariable(\"level\",'f4',('level'),zlib=True)\n",
    "# Level2=fout.createVariable(\"level2\",'f4',('level2'),zlib=True)\n",
    "# nnt=fout.createVariable(\"ntype\",'S20',('ntype'),zlib=True)\n",
    "# npp=fout.createVariable(\"npert\",'f4',('npert'),zlib=True)\n",
    "\n",
    "# outdata[:]=wvp\n",
    "# outdata1[:]=ttp\n",
    "# outdata2[:]=P_ave\n",
    "# outdata11[:]=ttlup\n",
    "# outdata111[:]=ttldp\n",
    "# outdata21[:]=P_lev\n",
    "# outdata3[:]=np.zeros_like(P_ave)*gas_mr_o3[0,0,:]\n",
    "\n",
    "# Level[:]=np.arange(77)\n",
    "# Level2[:]=np.arange(78)\n",
    "# nnt[:]=np.array(['base','trop conv_e','trop_conv_c'])\n",
    "# npp[:]=np.arange(0,npert)\n",
    "# fout.close()\n"
   ]
  },
  {
   "cell_type": "code",
   "execution_count": null,
   "metadata": {},
   "outputs": [],
   "source": []
  }
 ],
 "metadata": {
  "kernelspec": {
   "display_name": "Python 3",
   "language": "python",
   "name": "python3"
  },
  "language_info": {
   "codemirror_mode": {
    "name": "ipython",
    "version": 3
   },
   "file_extension": ".py",
   "mimetype": "text/x-python",
   "name": "python",
   "nbconvert_exporter": "python",
   "pygments_lexer": "ipython3",
   "version": "3.8.5"
  }
 },
 "nbformat": 4,
 "nbformat_minor": 4
}
