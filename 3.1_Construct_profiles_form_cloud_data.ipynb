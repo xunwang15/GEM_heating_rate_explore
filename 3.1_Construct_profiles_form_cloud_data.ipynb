{
 "cells": [
  {
   "cell_type": "code",
   "execution_count": 1,
   "metadata": {},
   "outputs": [
    {
     "name": "stdout",
     "output_type": "stream",
     "text": [
      "Populating the interactive namespace from numpy and matplotlib\n"
     ]
    }
   ],
   "source": [
    "%pylab inline\n",
    "#%matplotlib notebook\n",
    "import xarray as xr\n",
    "from glob import glob\n",
    "from scipy import stats\n",
    "import pandas as pd\n",
    "#from xradd import *\n",
    "from rrtmg_lw_functions import *\n",
    "import matplotlib.pyplot as plt\n",
    "import numpy as np\n",
    "import matplotlib.colors as colors\n",
    "from string import ascii_lowercase\n",
    "from scipy.interpolate import griddata\n",
    "from netCDF4 import Dataset\n",
    "import scipy.io\n",
    "from scipy import interpolate\n",
    "degree_sign= u'\\N{DEGREE SIGN}'\n",
    "import time\n",
    "from datetime import datetime"
   ]
  },
  {
   "cell_type": "markdown",
   "metadata": {},
   "source": [
    "## Description\n",
    "\n",
    "This notebook shows how I constructed profiles of cloud data for rrtmg.\n",
    "\n",
    "The GEM 201308 run does not have effective radius information, so I needed to use a test GEM dataset from Zhipeng. This dataset is meteorology on 20210705, not the same run or time period as the GEM 201308 run.\n",
    "\n",
    "I randomly picked a location where cloud data reaches ~150-100 hPa (very limited number of grid points satisfied this criteria) and directly use the data at that location."
   ]
  },
  {
   "cell_type": "markdown",
   "metadata": {},
   "source": [
    "### 0. Read pressure level data from base profiles for interpolation"
   ]
  },
  {
   "cell_type": "code",
   "execution_count": 2,
   "metadata": {},
   "outputs": [],
   "source": [
    "indir = '/storage/xwang/transfer_data/data/heating_rate_result_data/'\n",
    "ff = xr.open_dataset(indir+'idealized_gem_profiles_p_t_wv_perturb_base_radius_center_egde.nc')\n",
    "p_grid = ff.P_ave.data[0,0,:][::-1]\n",
    "px_grid = ff.P_lev.data[0,0,:][::-1]"
   ]
  },
  {
   "cell_type": "markdown",
   "metadata": {},
   "source": [
    "### 1. Read the cloud data from test GEM dataset and find a location where cloud is high enough"
   ]
  },
  {
   "cell_type": "code",
   "execution_count": 3,
   "metadata": {},
   "outputs": [],
   "source": [
    "indir = '/storage/xwang/transfer_data/data/GEM_1p0_new_raw/'\n",
    "#indir = '/lustre03/project/6003571/zhipeng/transfer/GEM_rt/'\n",
    "ff = xr.open_dataset(indir+'Test_data_2021070512_012_TOR.nc')\n",
    "lat = ff.latitude.data\n",
    "lon=ff.longitude.data\n",
    "\n",
    "iwc0 = ff.water_content_ice.data/1000.#convert units from g/m3 to kg/m3\n",
    "lwc0 = ff.water_content_rain.data/1000.#convert units from g/m3 to kg/m3\n",
    "efi0 = ff.effective_radius_ice.data*1e6 # convert units from m to microns\n",
    "efr0 = ff.effective_radius_rain.data*1e6 # convert units from m to microns\n",
    "iwci = ff.implicit_cloud_solid_water_content.data/1000.#convert units from g/m3 to kg/m3\n",
    "iwcr = ff.implicit_cloud_liquid_water_content.data/1000.#convert units from g/m3 to kg/m3\n",
    "iwc0= iwc0+iwci\n",
    "lwc0 = lwc0+iwcr\n",
    "\n",
    "clf0 = ff.cloud_mask_3d.data\n",
    "pp0 = ff.pressure_thermodynamic.data/100."
   ]
  },
  {
   "cell_type": "markdown",
   "metadata": {},
   "source": [
    "#### show the cross section of cloud ice and choose the location where cloud data reaches ~100 hPa"
   ]
  },
  {
   "cell_type": "code",
   "execution_count": 4,
   "metadata": {},
   "outputs": [
    {
     "name": "stdout",
     "output_type": "stream",
     "text": [
      "only these points: [ 0  1  2  3  4  5  6  7  8  9 10 11 12 13 14 15 16 17 18 19]\n"
     ]
    },
    {
     "data": {
      "text/plain": [
       "Text(0.5, 0, 'Longitude')"
      ]
     },
     "execution_count": 4,
     "metadata": {},
     "output_type": "execute_result"
    },
    {
     "data": {
      "image/png": "[encoded data removed]",
      "text/plain": [
       "<Figure size 432x288 with 1 Axes>"
      ]
     },
     "metadata": {
      "needs_background": "light"
     },
     "output_type": "display_data"
    }
   ],
   "source": [
    "idxc=np.where(np.logical_and(clf0>0,iwc0>0))\n",
    "iii = np.where(idxc[0]==idxc[0].min())[0] ### Find the highest position\n",
    "print('only these points:',iii)\n",
    "ilat = np.where(lat>=lat[idxc[1][iii]].mean())[0][0]\n",
    "\n",
    "var= iwc0[:,ilat,:]*1.\n",
    "var[var==0]=np.nan\n",
    "plt.contourf(lon,pp0[:,ilat,700],var,cmap='afmhot_r')\n",
    "plt.xlim([278,282])\n",
    "plt.ylim([600,50])\n",
    "plt.ylabel('hPa',fontsize=12)\n",
    "plt.xlabel('Longitude',fontsize=12)"
   ]
  },
  {
   "cell_type": "code",
   "execution_count": 5,
   "metadata": {},
   "outputs": [
    {
     "data": {
      "text/plain": [
       "Text(0.5, 0, 'IWC or cloud fraction units')"
      ]
     },
     "execution_count": 5,
     "metadata": {},
     "output_type": "execute_result"
    },
    {
     "data": {
      "image/png": "[encoded data removed]",
      "text/plain": [
       "<Figure size 288x432 with 1 Axes>"
      ]
     },
     "metadata": {
      "needs_background": "light"
     },
     "output_type": "display_data"
    }
   ],
   "source": [
    "### Randomly pick one location among the 20 points\n",
    "### Check the profiles at this location\n",
    "ilat = np.where(lat>=lat[idxc[1][iii[4]]])[0][0]\n",
    "ilon = np.where(lon>=lon[idxc[2][iii[4]]])[0][0]\n",
    "\n",
    "fig,ax = plt.subplots(nrows=1,ncols=1)\n",
    "fig.set_size_inches(4,6, forward=True)\n",
    "\n",
    "ax.plot(iwc0[:,ilat,ilon],pp0[:,ilat,ilon])\n",
    "ax.plot(clf0[:,ilat,ilon],pp0[:,ilat,ilon])\n",
    "# ax.plot(efi0[:,ilat,ilon],pp0[:,ilat,ilon])\n",
    "# ax.plot(lwc0[:,ilat,ilon],pp0[:,ilat,ilon])\n",
    "# ax.plot(efr0[:,ilat,ilon],pp0[:,ilat,ilon])\n",
    "\n",
    "ax.set_ylim([1000,50])\n",
    "ax.set_xscale('log')\n",
    "ax.set_ylabel('hPa',fontsize=12)\n",
    "ax.set_xlabel('IWC or cloud fraction units',fontsize=12)"
   ]
  },
  {
   "cell_type": "markdown",
   "metadata": {},
   "source": [
    "### 2. The chosen location looks good. Now begin constructing the profiles for rrtmg"
   ]
  },
  {
   "cell_type": "code",
   "execution_count": 6,
   "metadata": {},
   "outputs": [],
   "source": [
    "indir = '/storage/xwang/transfer_data/data/GEM_1p0_new_raw/'\n",
    "ff = xr.open_dataset(indir+'Test_data_2021070512_012_TOR.nc')\n",
    "iwc = ff.water_content_ice.isel(lat=ilat).isel(lon=ilon).data/1000.#convert units from g/m3 to kg/m3\n",
    "lwc = ff.water_content_rain.isel(lat=ilat).isel(lon=ilon).data/1000.#convert units from g/m3 to kg/m3\n",
    "efi = ff.effective_radius_ice.isel(lat=ilat).isel(lon=ilon).data*1e6 # convert units from m to microns\n",
    "efr = ff.effective_radius_rain.isel(lat=ilat).isel(lon=ilon).data*1e6 # convert units from m to microns\n",
    "iwci = ff.implicit_cloud_solid_water_content.isel(y=ilat).isel(x=ilon).data/1000.#convert units from g/m3 to kg/m3\n",
    "iwcr = ff.implicit_cloud_liquid_water_content.isel(y=ilat).isel(x=ilon).data/1000.#convert units from g/m3 to kg/m3\n",
    "iwc= iwc+iwci\n",
    "lwc = lwc+iwcr\n",
    "\n",
    "clf = ff.cloud_mask_3d.isel(lat=ilat).isel(lon=ilon).data\n",
    "pp = ff.pressure_thermodynamic.isel(lat=ilat).isel(lon=ilon).data/100."
   ]
  },
  {
   "cell_type": "markdown",
   "metadata": {},
   "source": [
    "#### interpolate the cloud data onto pressure levels (the same pressure levels as the cleary sky profiles)"
   ]
  },
  {
   "cell_type": "code",
   "execution_count": 7,
   "metadata": {},
   "outputs": [],
   "source": [
    "clf_grid=griddata(np.log(pp),clf,np.log(p_grid))\n",
    "iwc_grid=griddata(np.log(pp),iwc,np.log(p_grid))\n",
    "lwc_grid=griddata(np.log(pp),lwc,np.log(p_grid))\n",
    "efi_grid=griddata(np.log(pp),efi,np.log(p_grid))\n",
    "efr_grid=griddata(np.log(pp),efr,np.log(p_grid))\n",
    "\n",
    "clf_grid[-1]=0 ### make the cloud fraction at the surface 0"
   ]
  },
  {
   "cell_type": "markdown",
   "metadata": {},
   "source": [
    "#### Follow the layer/level scheme described in \"3.0_GEM_vs_RRTMG_scheme_and_bias.ipynb\""
   ]
  },
  {
   "cell_type": "code",
   "execution_count": 8,
   "metadata": {},
   "outputs": [],
   "source": [
    "data_type='above_150hPa' # 'above_150hPa','below_150hPa'"
   ]
  },
  {
   "cell_type": "code",
   "execution_count": 9,
   "metadata": {},
   "outputs": [],
   "source": [
    "## this is for the profile WITH OVW cloud\n",
    "if data_type=='above_150hPa':\n",
    "    clf_tmp = clf_grid*1.\n",
    "    clf = clf_tmp*1.\n",
    "    clf[:-1]=clf_tmp[1:]\n",
    "\n",
    "    iwc_mm = iwc_grid*1.\n",
    "    iwc_mm[:-1]=iwc_grid[1:]\n",
    "    lwc_mm = lwc_grid*1.\n",
    "    lwc_mm[:-1]=lwc_grid[1:]*1.\n",
    "\n",
    "    model_cld_data = iwc_mm,lwc_mm,efi_grid,efr_grid,clf,px_grid,0 \n",
    "    iwc_data,lwc_data,eri_data,err_data, clf_data = form_cld_data(model_cld_data,attach_std_atmo=0)"
   ]
  },
  {
   "cell_type": "code",
   "execution_count": 10,
   "metadata": {},
   "outputs": [],
   "source": [
    "## this is for the profile without OVW cloud\n",
    "if data_type=='below_150hPa':\n",
    "    ilev = np.where(p_grid>=150)[0][0]\n",
    "    iwc_mm2 = iwc_mm*1.\n",
    "    iwc_mm2[:ilev]=0\n",
    "    lwc_mm2 = lwc_mm*1.\n",
    "    lwc_mm2[:ilev]=0\n",
    "    efi_grid2 = efi_grid*1.\n",
    "    efi_grid2[:ilev]=0\n",
    "    efr_grid2 = efr_grid*1.\n",
    "    efr_grid2[:ilev]=0\n",
    "    clf2 = clf*1.\n",
    "    clf2[:ilev]=0\n",
    "\n",
    "    model_cld_data = iwc_mm2,lwc_mm2,efi_grid2,efr_grid2,clf2,px_grid,0 # Best solution\n",
    "    iwc_data,lwc_data,eri_data,err_data, clf_data = form_cld_data(model_cld_data,attach_std_atmo=0)"
   ]
  },
  {
   "cell_type": "markdown",
   "metadata": {},
   "source": [
    "#### Store the data\n",
    "\n",
    "Do not need to run the codes below unless you need to generate a new dataset."
   ]
  },
  {
   "cell_type": "code",
   "execution_count": 37,
   "metadata": {},
   "outputs": [],
   "source": [
    "# outdir = '/storage/xwang/transfer_data/data/heating_rate_result_data/'\n",
    "# fout = Dataset(outdir+'idealized_gem_profiles_cloud_data_'+data_type+'.nc','w',format = 'NETCDF4')\n",
    "# Level=fout.createDimension('level',77)\n",
    "# nn=fout.createDimension('nn',1)\n",
    "# nn2=fout.createDimension('nn2',2)\n",
    "\n",
    "# outdata = fout.createVariable(\"iwc\",'f4',('level'),zlib=True)\n",
    "# outdata.units='kg/m3'\n",
    "# outdata2 = fout.createVariable(\"lwc\",'f4',('level'),zlib=True)\n",
    "# outdata2.units='kg/m3'\n",
    "# outdata3 = fout.createVariable(\"efi\",'f4',('level'),zlib=True)\n",
    "# outdata3.units='microns'\n",
    "# outdata4 = fout.createVariable(\"efr\",'f4',('level'),zlib=True)\n",
    "# outdata4.units='microns'\n",
    "# outdata5 = fout.createVariable(\"clf\",'f4',('level'),zlib=True)\n",
    "# outdata5.units='1'\n",
    "# outdata6 = fout.createVariable(\"ems\",'f4',('nn'),zlib=True)\n",
    "# outdata7 = fout.createVariable(\"alb\",'f4',('nn'),zlib=True)\n",
    "# outdata8 = fout.createVariable(\"sza\",'f4',('nn2'),zlib=True)\n",
    "\n",
    "# Level=fout.createVariable(\"level\",'f4',('level'),zlib=True)\n",
    "# nn2=fout.createVariable(\"nn2\",'f4',('nn2'),zlib=True)\n",
    "# nn=fout.createVariable(\"nn\",'f4',('nn'),zlib=True)\n",
    "\n",
    "# outdata[:]=iwc_data\n",
    "# outdata2[:]=lwc_data\n",
    "# outdata3[:]=eri_data\n",
    "# outdata4[:]=err_data\n",
    "# outdata5[:]=clf_data\n",
    "# outdata6[:]=emi_data\n",
    "# outdata7[:]=alb_data\n",
    "# outdata8[:]=sza_data\n",
    "\n",
    "# Level[:]=np.arange(77)\n",
    "# nn2[:] = np.array([0,40])\n",
    "# nn[:] = np.array([0])\n",
    "# fout.close()\n"
   ]
  }
 ],
 "metadata": {
  "kernelspec": {
   "display_name": "Python 3",
   "language": "python",
   "name": "python3"
  },
  "language_info": {
   "codemirror_mode": {
    "name": "ipython",
    "version": 3
   },
   "file_extension": ".py",
   "mimetype": "text/x-python",
   "name": "python",
   "nbconvert_exporter": "python",
   "pygments_lexer": "ipython3",
   "version": "3.8.5"
  }
 },
 "nbformat": 4,
 "nbformat_minor": 4
}
